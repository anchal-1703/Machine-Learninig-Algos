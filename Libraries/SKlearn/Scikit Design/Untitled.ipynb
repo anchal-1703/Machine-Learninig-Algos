{
 "cells": [
  {
   "cell_type": "markdown",
   "id": "9f19af8b-002c-45d1-93df-62c6017b179a",
   "metadata": {},
   "source": [
    "## 🔷 Scikit-learn Design Philosophy\n",
    "\n",
    "Scikit-learn follows a unified, modular, object-oriented API design, built around the idea of estimators, transformers, and predictors.\n",
    "\n",
    "---\n",
    "\n",
    "### 🔹 1. Estimator Interface\n",
    "An estimator is any object that learns from data. It implements:\n",
    "\n",
    " - .fit(X, y) → learns patterns or parameters from data.\n",
    "\n",
    "Examples:\n",
    "- LinearRegression()\n",
    "\n",
    "- KMeans()\n",
    "\n",
    "- StandardScaler()\n"
   ]
  },
  {
   "cell_type": "code",
   "execution_count": 2,
   "id": "a8cfdf27-83b9-49e4-a8e9-d0cdb7c858e5",
   "metadata": {},
   "outputs": [],
   "source": [
    "# model = LinearRegression()\n",
    "# model.fit(X_train, y_train)"
   ]
  },
  {
   "cell_type": "markdown",
   "id": "8d2724d1-47f5-481a-b05a-700a9265f5b5",
   "metadata": {},
   "source": [
    "## 🔹 2. Transformer Interface\n",
    "A transformer is a type of estimator that also implements:\n",
    "\n",
    "- .transform(X) → transforms the input data.\n",
    "\n",
    "- Often used in data preprocessing.\n",
    "\n",
    "Some also have:\n",
    "\n",
    "- .fit_transform(X, y=None) → a shortcut for fit() followed by transform().\n",
    "\n",
    "Examples:\n",
    "- StandardScaler()\n",
    "\n",
    "- OneHotEncoder()\n",
    "\n",
    "- PCA()"
   ]
  },
  {
   "cell_type": "code",
   "execution_count": null,
   "id": "295ec1d9-cb06-4bad-af73-fec26608d76a",
   "metadata": {},
   "outputs": [],
   "source": [
    "# scaler = StandardScaler()\n",
    "# X_scaled = scaler.fit_transform(X)\n"
   ]
  },
  {
   "cell_type": "markdown",
   "id": "acb0489c-0ff0-4db2-8615-1e4615928017",
   "metadata": {},
   "source": [
    "## 🔹 3. Predictor Interface\n",
    "A predictor is a type of estimator that can make predictions. It implements:\n",
    "\n",
    "- .predict(X) → predicts outputs from input data.\n",
    "\n",
    "Some also implement:\n",
    "\n",
    "- .score(X, y) → returns a metric (like accuracy).\n",
    "\n",
    "Examples:\n",
    "- LogisticRegression()\n",
    "\n",
    "- SVC()\n",
    "\n",
    "- DecisionTreeClassifier()"
   ]
  },
  {
   "cell_type": "code",
   "execution_count": 3,
   "id": "5da0c00e-f26d-4f03-8da8-1e7c7081a31e",
   "metadata": {},
   "outputs": [],
   "source": [
    "# clf = DecisionTreeClassifier()\n",
    "# clf.fit(X_train, y_train)\n",
    "# y_pred = clf.predict(X_test)\n"
   ]
  },
  {
   "cell_type": "markdown",
   "id": "c3db1ee4-5601-4ad3-b7dd-ee3105115ace",
   "metadata": {},
   "source": [
    "## 🔹 4. Pipelines\n",
    "A Pipeline chains transformers and estimators into a single step."
   ]
  },
  {
   "cell_type": "code",
   "execution_count": 5,
   "id": "6b8301ba-574d-4f61-9562-9347ae93da66",
   "metadata": {},
   "outputs": [],
   "source": [
    "# from sklearn.pipeline import Pipeline\n",
    "\n",
    "# pipe = Pipeline([\n",
    "#     ('scaler', StandardScaler()),\n",
    "#     ('model', LogisticRegression())\n",
    "# ])\n",
    "\n",
    "# pipe.fit(X_train, y_train)\n",
    "# y_pred = pipe.predict(X_test)\n"
   ]
  },
  {
   "cell_type": "markdown",
   "id": "5545b164-0d8b-4ead-98b7-3e8855498dd1",
   "metadata": {},
   "source": [
    "           +-----------------+\n",
    "           |  Estimator      | <--- all models, transformers\n",
    "           +-----------------+\n",
    "            |   |        |\n",
    "        fit()  transform()  predict()\n",
    "         |       |           |\n",
    "         ↓       ↓           ↓\n",
    "      Learns   Transforms   Predicts\n"
   ]
  },
  {
   "cell_type": "code",
   "execution_count": 6,
   "id": "6aa7ce7c-a876-4603-a394-a5ed6c3fbcc5",
   "metadata": {},
   "outputs": [
    {
     "name": "stdout",
     "output_type": "stream",
     "text": [
      "Accuracy: 1.0\n",
      "\n",
      "Classification Report:\n",
      "               precision    recall  f1-score   support\n",
      "\n",
      "           1       1.00      1.00      1.00         1\n",
      "\n",
      "    accuracy                           1.00         1\n",
      "   macro avg       1.00      1.00      1.00         1\n",
      "weighted avg       1.00      1.00      1.00         1\n",
      "\n"
     ]
    }
   ],
   "source": [
    "import pandas as pd\n",
    "from sklearn.model_selection import train_test_split\n",
    "from sklearn.preprocessing import StandardScaler, OneHotEncoder\n",
    "from sklearn.compose import ColumnTransformer\n",
    "from sklearn.pipeline import Pipeline\n",
    "from sklearn.linear_model import LogisticRegression\n",
    "from sklearn.metrics import accuracy_score, classification_report\n",
    "\n",
    "# Sample dataset\n",
    "data = {\n",
    "    'Age': [25, 45, 35, 33, 22],\n",
    "    'Salary': [50000, 80000, 60000, 58000, 52000],\n",
    "    'Gender': ['Male', 'Female', 'Female', 'Male', 'Male'],\n",
    "    'Purchased': [0, 1, 0, 1, 0]\n",
    "}\n",
    "\n",
    "df = pd.DataFrame(data)\n",
    "\n",
    "# Features and label\n",
    "X = df[['Age', 'Salary', 'Gender']]\n",
    "y = df['Purchased']\n",
    "\n",
    "# Split data\n",
    "X_train, X_test, y_train, y_test = train_test_split(X, y, test_size=0.2, random_state=42)\n",
    "\n",
    "# Define preprocessing:\n",
    "# - StandardScaler for numerical\n",
    "# - OneHotEncoder for categorical\n",
    "numeric_features = ['Age', 'Salary']\n",
    "categorical_features = ['Gender']\n",
    "\n",
    "preprocessor = ColumnTransformer(\n",
    "    transformers=[\n",
    "        ('num', StandardScaler(), numeric_features),\n",
    "        ('cat', OneHotEncoder(), categorical_features)\n",
    "    ]\n",
    ")\n",
    "\n",
    "# Define pipeline with preprocessing + model\n",
    "pipeline = Pipeline([\n",
    "    ('preprocessing', preprocessor),\n",
    "    ('classifier', LogisticRegression())\n",
    "])\n",
    "\n",
    "# Fit the pipeline\n",
    "pipeline.fit(X_train, y_train)\n",
    "\n",
    "# Predict and evaluate\n",
    "y_pred = pipeline.predict(X_test)\n",
    "\n",
    "print(\"Accuracy:\", accuracy_score(y_test, y_pred))\n",
    "print(\"\\nClassification Report:\\n\", classification_report(y_test, y_pred))\n"
   ]
  },
  {
   "cell_type": "code",
   "execution_count": null,
   "id": "bc525846-8698-4480-894d-724638b93fe2",
   "metadata": {},
   "outputs": [],
   "source": []
  }
 ],
 "metadata": {
  "kernelspec": {
   "display_name": "Python 3 (ipykernel)",
   "language": "python",
   "name": "python3"
  },
  "language_info": {
   "codemirror_mode": {
    "name": "ipython",
    "version": 3
   },
   "file_extension": ".py",
   "mimetype": "text/x-python",
   "name": "python",
   "nbconvert_exporter": "python",
   "pygments_lexer": "ipython3",
   "version": "3.13.0"
  }
 },
 "nbformat": 4,
 "nbformat_minor": 5
}
