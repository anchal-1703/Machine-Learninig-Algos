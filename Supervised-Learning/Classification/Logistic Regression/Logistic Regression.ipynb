{
 "cells": [
  {
   "cell_type": "markdown",
   "id": "ed0d3143-ad32-4162-8bfa-eb2d4fe8b4fc",
   "metadata": {},
   "source": [
    "# Logistic Regression 📈 (Classification)\n",
    "\n",
    "**Logistic Regression** is a fundamental algorithm used for **binary classification** problems — where the target variable has only two possible outcomes (e.g., 0 or 1, yes or no, spam or not spam).\n",
    "\n",
    "---\n",
    "\n",
    "## 🧠 Concept\n",
    "\n",
    "Unlike Linear Regression, which predicts a continuous output, **Logistic Regression predicts probabilities**. It uses the **sigmoid (logistic) function** to squash the output of a linear equation between 0 and 1.\n",
    "\n",
    "### Sigmoid Function:\n",
    "Just like Linear Regression:\n",
    "- z = w * x + b\n",
    "  or\n",
    "- z = trans(THETA).x\n",
    " where THETA are weights(w's)\n",
    "\n",
    "\\[\n",
    "\\sigma(z) = {1}/{1 + e^{-z}}\n",
    "\\]\n",
    "\n",
    "If the output is:\n",
    "- if p> 50% → Class 1\n",
    "- if p≤ 50% → Class 0\n",
    "\n",
    "### Loss Function :\n",
    "\n",
    "Loss = - [y * log(p) + (1 - y) * log(1 - p)]\n",
    "\n",
    "Where:\n",
    "- y is the true label (0 or 1)\n",
    "- p is the predicted probability (from sigmoid)\n",
    "   i.e p=sigmoid(z)\n",
    "\n",
    "---\n",
    "\n",
    "## 🔍 Use Cases\n",
    "\n",
    "- Spam email detection (spam or not spam)\n",
    "- Loan approval prediction (approve or reject)\n",
    "- Disease diagnosis (disease or healthy)\n",
    "- Customer churn prediction\n",
    "\n",
    "---\n",
    "\n",
    "\n",
    "## 📊 Evaluation Metrics\n",
    "\n",
    "| Metric        | Description |\n",
    "|---------------|-------------|\n",
    "| **Accuracy**  | Overall correctness of the model |\n",
    "| **Precision** | % of predicted positives that are actually positive |\n",
    "| **Recall**    | % of actual positives that are correctly predicted |\n",
    "| **F1 Score**  | Harmonic mean of precision and recall |\n",
    "\n",
    "---\n",
    "\n",
    "## 📁 Notebook Contents\n",
    "\n",
    "The notebook includes:\n",
    "- 📌 Step-by-step implementation of Logistic Regression\n",
    "- 📉 Visualizations for data exploration and model results\n",
    "- ✅ Model evaluation using scikit-learn's classification metrics\n",
    "\n",
    "---\n"
   ]
  },
  {
   "cell_type": "markdown",
   "id": "9a31cf32-e1b7-442e-9524-975693351304",
   "metadata": {},
   "source": [
    "### Training a model to predict wheather a flower is iris virginica or not "
   ]
  },
  {
   "cell_type": "code",
   "execution_count": 27,
   "id": "5595d97c-39a7-4a2b-9dc0-8ef15328f836",
   "metadata": {},
   "outputs": [],
   "source": [
    "# importing libraries\n",
    "from sklearn import datasets\n",
    "from sklearn.linear_model import LogisticRegression \n",
    "import numpy as np\n",
    "import matplotlib.pyplot as plt"
   ]
  },
  {
   "cell_type": "code",
   "execution_count": 13,
   "id": "a8e2f644-8b7e-4ffd-9a5c-0a1168a4c1a0",
   "metadata": {},
   "outputs": [],
   "source": [
    "#loading datasets\n",
    "iris = datasets.load_iris()\n",
    "x = iris.data[:,3:]\n",
    "y=(iris.target==2).astype(int)\n"
   ]
  },
  {
   "cell_type": "code",
   "execution_count": 20,
   "id": "96a2add8-172e-4507-9952-8be0e16d048a",
   "metadata": {},
   "outputs": [
    {
     "name": "stdout",
     "output_type": "stream",
     "text": [
      "[1]\n"
     ]
    }
   ],
   "source": [
    "#Train logistic Regression classifier \n",
    "clf = LogisticRegression()\n",
    "clf.fit(x,y)\n",
    "example = clf.predict([[12.6]])\n",
    "print(example)"
   ]
  },
  {
   "cell_type": "code",
   "execution_count": 29,
   "id": "37324a99-62b4-416b-8255-0ae8fc6b5a2b",
   "metadata": {},
   "outputs": [],
   "source": [
    "#using matplotlib to plot the visualization\n",
    "x_new = np.linspace(0,3,1000).reshape(-1,1)\n",
    "y_prob = clf.predict_proba(x_new)"
   ]
  },
  {
   "cell_type": "code",
   "execution_count": 34,
   "id": "dddb0e02-4cf6-420a-8820-b81273edde71",
   "metadata": {},
   "outputs": [
    {
     "data": {
      "image/png": "[encoded data removed]",
      "text/plain": [
       "<Figure size 640x480 with 1 Axes>"
      ]
     },
     "metadata": {},
     "output_type": "display_data"
    }
   ],
   "source": [
    "plt.plot(x_new,y_prob[:,1],\"g-\",label =\"virginica\")\n",
    "plt.xlabel(\"Petal width\")\n",
    "plt.ylabel(\"Probability\")\n",
    "plt.legend()\n",
    "plt.show()"
   ]
  },
  {
   "cell_type": "code",
   "execution_count": null,
   "id": "7698a585-2500-48b8-a124-6296e6b39b8d",
   "metadata": {},
   "outputs": [],
   "source": []
  }
 ],
 "metadata": {
  "kernelspec": {
   "display_name": "Python 3 (ipykernel)",
   "language": "python",
   "name": "python3"
  },
  "language_info": {
   "codemirror_mode": {
    "name": "ipython",
    "version": 3
   },
   "file_extension": ".py",
   "mimetype": "text/x-python",
   "name": "python",
   "nbconvert_exporter": "python",
   "pygments_lexer": "ipython3",
   "version": "3.13.0"
  }
 },
 "nbformat": 4,
 "nbformat_minor": 5
}
