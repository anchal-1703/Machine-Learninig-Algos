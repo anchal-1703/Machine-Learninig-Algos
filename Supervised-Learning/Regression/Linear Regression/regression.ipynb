{
 "cells": [
  {
   "cell_type": "markdown",
   "id": "7e56c76c-730a-456a-aa13-29abc4c8625d",
   "metadata": {},
   "source": [
    "# 📈 Linear Regression\n",
    "\n",
    "Linear Regression is one of the most fundamental and widely used algorithms in machine learning. It's a **supervised learning algorithm** used for **predicting continuous numerical values**.\n",
    "\n",
    "---\n",
    "\n",
    "## 🧠 What is Linear Regression?\n",
    "\n",
    "Linear Regression models the **relationship between one or more independent variables (features)** and a **dependent variable (target)** by fitting a linear equation to the observed data.\n",
    "\n",
    "### 💡 Simple Linear Regression\n",
    "Involves one independent variable:\n",
    "y = mx + b\n",
    "Where:\n",
    "- `y` is the predicted value,\n",
    "- `x` is the input feature,\n",
    "- `m` is the slope (coefficient),\n",
    "- `b` is the y-intercept.\n",
    "\n",
    "### 💡 Multiple Linear Regression\n",
    "Uses more than one feature:\n",
    "y = b0 + b1x1 + b2x2 + ... + bn*xn\n",
    "\n",
    "---\n",
    "\n",
    "## 📌 Key Concepts\n",
    "\n",
    "| Term | Meaning |\n",
    "|------|---------|\n",
    "| Coefficient (Weight) | How much a feature impacts the target |\n",
    "| Intercept | The predicted value when all features are 0 |\n",
    "| Loss Function | Measures how far predictions are from actual values |\n",
    "| Mean Squared Error (MSE) | A common loss function for regression |\n",
    "| R² Score | Measures how well the model explains the variance in data |\n",
    "\n",
    "---\n",
    "\n",
    "## 📊 Real-World Examples\n",
    "\n",
    "- Predicting **house prices** based on area, number of rooms, etc.\n",
    "- Estimating **salary** based on years of experience.\n",
    "- Forecasting **sales** based on advertising budget.\n",
    "\n",
    "---\n",
    "\n",
    "\n",
    "\n",
    "\n",
    "## 📈 Evaluation Metrics\n",
    "\n",
    "| Metric | Description |\n",
    "|--------|-------------|\n",
    "| Mean Absolute Error (MAE) | Average of absolute errors |\n",
    "| Mean Squared Error (MSE) | Average of squared errors |\n",
    "| Root Mean Squared Error (RMSE) | Square root of MSE |\n",
    "| R² Score | Proportion of variance explained by the model |\n",
    "\n",
    "---\n",
    "\n",
    "\n",
    "## ✅ Conclusion\n",
    "\n",
    "Linear Regression is an essential building block in understanding machine learning. It's simple yet powerful for many real-world prediction tasks.\n",
    "\n",
    "> “All models are wrong, but some are useful.” – George Box\n",
    "\n"
   ]
  },
  {
   "cell_type": "code",
   "execution_count": 2,
   "id": "ca6a1cb4-ba09-48d7-a0ab-f79d27c26a14",
   "metadata": {},
   "outputs": [],
   "source": [
    "#loading libraries\n",
    "import matplotlib.pyplot as plt #for graphs\n",
    "import numpy as np #for calculations\n",
    "from sklearn import datasets,linear_model #implement linear regression model using datasets\n",
    "from sklearn.metrics import mean_squared_error #accuracy of a model loss function"
   ]
  },
  {
   "cell_type": "markdown",
   "id": "45224137-4490-4a48-8189-aaf6accb9d5f",
   "metadata": {},
   "source": [
    "# using simple example without using any dataset"
   ]
  },
  {
   "cell_type": "code",
   "execution_count": 2,
   "id": "12ef183d-bf65-4415-afe6-3114a54f0797",
   "metadata": {},
   "outputs": [
    {
     "name": "stdout",
     "output_type": "stream",
     "text": [
      "mean squared error is : 0.5000000000000001\n",
      "weight [0.5]\n",
      "intercept 2.0\n"
     ]
    },
    {
     "data": {
      "text/plain": [
       "[<matplotlib.lines.Line2D at 0x2763773ac10>]"
      ]
     },
     "execution_count": 2,
     "metadata": {},
     "output_type": "execute_result"
    },
    {
     "data": {
      "image/png": "[encoded data removed]",
      "text/plain": [
       "<Figure size 640x480 with 1 Axes>"
      ]
     },
     "metadata": {},
     "output_type": "display_data"
    }
   ],
   "source": [
    "diabetes_x=np.array([[1],[2],[3]])\n",
    "dataset_y=np.array([3,2,4]) \n",
    "diabetes_x_train= diabetes_x\n",
    "diabetes_x_test= diabetes_x\n",
    "\n",
    "diabetes_y_train= dataset_y\n",
    "diabetes_y_test= dataset_y\n",
    "model=linear_model.LinearRegression() \n",
    "model.fit(diabetes_x_train,diabetes_y_train)\n",
    "# diabetes_y_predicted = model.predict([[14],[12],[4]])\n",
    "diabetes_y_predicted = model.predict(diabetes_x_test)\n",
    "print(\"mean squared error is :\",mean_squared_error(diabetes_y_test,diabetes_y_predicted))\n",
    "print(\"weight\",model.coef_)\n",
    "print(\"intercept\",model.intercept_)\n",
    "plt.scatter(diabetes_x_test,diabetes_y_test)\n",
    "plt.plot(diabetes_x_test,diabetes_y_predicted)"
   ]
  },
  {
   "cell_type": "code",
   "execution_count": 3,
   "id": "8243efc0-6342-4692-b129-9e0df7ad11d5",
   "metadata": {},
   "outputs": [
    {
     "data": {
      "text/plain": [
       "dict_keys(['data', 'target', 'frame', 'DESCR', 'feature_names', 'data_filename', 'target_filename', 'data_module'])"
      ]
     },
     "execution_count": 3,
     "metadata": {},
     "output_type": "execute_result"
    }
   ],
   "source": [
    "# get diabetes datasets\n",
    "diabetes= datasets.load_diabetes()\n",
    "diabetes.keys()\n",
    " \n"
   ]
  },
  {
   "cell_type": "code",
   "execution_count": 4,
   "id": "224ca0ba-c085-4ed7-9886-3afd3a531f3a",
   "metadata": {},
   "outputs": [
    {
     "name": "stdout",
     "output_type": "stream",
     "text": [
      "[[ 0.03807591]\n",
      " [-0.00188202]\n",
      " [ 0.08529891]\n",
      " [-0.08906294]\n",
      " [ 0.00538306]\n",
      " [-0.09269548]\n",
      " [-0.04547248]\n",
      " [ 0.06350368]\n",
      " [ 0.04170844]\n",
      " [-0.07090025]\n",
      " [-0.09632802]\n",
      " [ 0.02717829]\n",
      " [ 0.01628068]\n",
      " [ 0.00538306]\n",
      " [ 0.04534098]\n",
      " [-0.05273755]\n",
      " [-0.00551455]\n",
      " [ 0.07076875]\n",
      " [-0.0382074 ]\n",
      " [-0.02730979]]\n"
     ]
    }
   ],
   "source": [
    "print(diabetes.data[:20,np.newaxis,0])"
   ]
  },
  {
   "cell_type": "code",
   "execution_count": 5,
   "id": "7d742da2-cfc1-4839-91ac-f4d685f381c0",
   "metadata": {},
   "outputs": [
    {
     "name": "stdout",
     "output_type": "stream",
     "text": [
      "[151.  75. 141. 206. 135.  97. 138.  63. 110. 310. 101.  69. 179. 185.\n",
      " 118. 171. 166. 144.  97. 168.  68.  49.  68. 245. 184. 202. 137.  85.\n",
      " 131. 283. 129.  59. 341.  87.  65. 102. 265. 276. 252.  90. 100.  55.\n",
      "  61.  92. 259.  53. 190. 142.  75. 142. 155. 225.  59. 104. 182. 128.\n",
      "  52.  37. 170. 170.  61. 144.  52. 128.  71. 163. 150.  97. 160. 178.\n",
      "  48. 270. 202. 111.  85.  42. 170. 200. 252. 113. 143.  51.  52. 210.\n",
      "  65. 141.  55. 134.  42. 111.  98. 164.  48.  96.  90. 162. 150. 279.\n",
      "  92.  83. 128. 102. 302. 198.  95.  53. 134. 144. 232.  81. 104.  59.\n",
      " 246. 297. 258. 229. 275. 281. 179. 200. 200. 173. 180.  84. 121. 161.\n",
      "  99. 109. 115. 268. 274. 158. 107.  83. 103. 272.  85. 280. 336. 281.\n",
      " 118. 317. 235.  60. 174. 259. 178. 128.  96. 126. 288.  88. 292.  71.\n",
      " 197. 186.  25.  84.  96. 195.  53. 217. 172. 131. 214.  59.  70. 220.\n",
      " 268. 152.  47.  74. 295. 101. 151. 127. 237. 225.  81. 151. 107.  64.\n",
      " 138. 185. 265. 101. 137. 143. 141.  79. 292. 178.  91. 116.  86. 122.\n",
      "  72. 129. 142.  90. 158.  39. 196. 222. 277.  99. 196. 202. 155.  77.\n",
      " 191.  70.  73.  49.  65. 263. 248. 296. 214. 185.  78.  93. 252. 150.\n",
      "  77. 208.  77. 108. 160.  53. 220. 154. 259.  90. 246. 124.  67.  72.\n",
      " 257. 262. 275. 177.  71.  47. 187. 125.  78.  51. 258. 215. 303. 243.\n",
      "  91. 150. 310. 153. 346.  63.  89.  50.  39. 103. 308. 116. 145.  74.\n",
      "  45. 115. 264.  87. 202. 127. 182. 241.  66.  94. 283.  64. 102. 200.\n",
      " 265.  94. 230. 181. 156. 233.  60. 219.  80.  68. 332. 248.  84. 200.\n",
      "  55.  85.  89.  31. 129.  83. 275.  65. 198. 236. 253. 124.  44. 172.\n",
      " 114. 142. 109. 180. 144. 163. 147.  97. 220. 190. 109. 191. 122. 230.\n",
      " 242. 248. 249. 192. 131. 237.  78. 135. 244. 199. 270. 164.  72.  96.\n",
      " 306.  91. 214.  95. 216. 263. 178. 113. 200. 139. 139.  88. 148.  88.\n",
      " 243.  71.  77. 109. 272.  60.  54. 221.  90. 311. 281. 182. 321.  58.\n",
      " 262. 206. 233. 242. 123. 167.  63. 197.  71. 168. 140. 217. 121. 235.\n",
      " 245.  40.  52. 104. 132.  88.  69. 219.  72. 201. 110.  51. 277.  63.\n",
      " 118.  69. 273. 258.  43. 198. 242. 232. 175.  93. 168. 275. 293. 281.\n",
      "  72. 140. 189. 181. 209. 136. 261. 113. 131. 174. 257.  55.  84.  42.\n",
      " 146. 212. 233.  91. 111. 152. 120.  67. 310.  94. 183.  66. 173.  72.\n",
      "  49.  64.  48. 178. 104. 132. 220.  57.]\n"
     ]
    }
   ],
   "source": [
    "print(diabetes.target) # 422 y label dependent variable"
   ]
  },
  {
   "cell_type": "code",
   "execution_count": 6,
   "id": "b8463e3a-7f09-45e4-aa98-ff63a494d69a",
   "metadata": {},
   "outputs": [
    {
     "name": "stdout",
     "output_type": "stream",
     "text": [
      "[[ 0.03807591  0.05068012  0.06169621 ... -0.00259226  0.01990749\n",
      "  -0.01764613]\n",
      " [-0.00188202 -0.04464164 -0.05147406 ... -0.03949338 -0.06833155\n",
      "  -0.09220405]\n",
      " [ 0.08529891  0.05068012  0.04445121 ... -0.00259226  0.00286131\n",
      "  -0.02593034]\n",
      " ...\n",
      " [ 0.04170844  0.05068012 -0.01590626 ... -0.01107952 -0.04688253\n",
      "   0.01549073]\n",
      " [-0.04547248 -0.04464164  0.03906215 ...  0.02655962  0.04452873\n",
      "  -0.02593034]\n",
      " [-0.04547248 -0.04464164 -0.0730303  ... -0.03949338 -0.00422151\n",
      "   0.00306441]]\n"
     ]
    }
   ],
   "source": [
    "print(diabetes.data) #feautures x  independent variable"
   ]
  },
  {
   "cell_type": "code",
   "execution_count": 14,
   "id": "c478c174-08ae-485f-a09f-409ade48852b",
   "metadata": {},
   "outputs": [],
   "source": [
    " diabetes_x= diabetes.data[:,np.newaxis,2]\n",
    "diabetes_x_train= diabetes_x[:-30]\n",
    "diabetes_x_test= diabetes_x[-30:]\n",
    "\n",
    "diabetes_y_train= diabetes.target[:-30]\n",
    "diabetes_y_test= diabetes.target[-30:]\n"
   ]
  },
  {
   "cell_type": "code",
   "execution_count": 15,
   "id": "62bbc274-42cf-47b7-a35c-ca9d2b84cae3",
   "metadata": {},
   "outputs": [
    {
     "name": "stdout",
     "output_type": "stream",
     "text": [
      "mean squared error is : 3035.060115291269\n"
     ]
    }
   ],
   "source": [
    "model=linear_model.LinearRegression() \n",
    "model.fit(diabetes_x_train,diabetes_y_train)\n",
    "diabetes_y_predicted = model.predict(diabetes_x_test)\n",
    "\n",
    "print(\"mean squared error is :\",mean_squared_error(diabetes_y_test,diabetes_y_predicted))"
   ]
  },
  {
   "cell_type": "code",
   "execution_count": 17,
   "id": "b392b1d4-57fd-4456-88e8-7a06eceae169",
   "metadata": {},
   "outputs": [
    {
     "name": "stdout",
     "output_type": "stream",
     "text": [
      "weight [941.43097333]\n",
      "intercept 153.39713623331644\n"
     ]
    },
    {
     "data": {
      "text/plain": [
       "[<matplotlib.lines.Line2D at 0x2763d8eb390>]"
      ]
     },
     "execution_count": 17,
     "metadata": {},
     "output_type": "execute_result"
    },
    {
     "data": {
      "image/png": "[encoded data removed]",
      "text/plain": [
       "<Figure size 640x480 with 1 Axes>"
      ]
     },
     "metadata": {},
     "output_type": "display_data"
    }
   ],
   "source": [
    "print(\"weight\",model.coef_)\n",
    "print(\"intercept\",model.intercept_)\n",
    "plt.scatter(diabetes_x_test,diabetes_y_test)\n",
    "plt.plot(diabetes_x_test,diabetes_y_predicted)\n"
   ]
  },
  {
   "cell_type": "code",
   "execution_count": null,
   "id": "8d2badd4-9687-4d0d-8aed-83d58bd0a05e",
   "metadata": {},
   "outputs": [],
   "source": []
  }
 ],
 "metadata": {
  "kernelspec": {
   "display_name": "Python 3 (ipykernel)",
   "language": "python",
   "name": "python3"
  },
  "language_info": {
   "codemirror_mode": {
    "name": "ipython",
    "version": 3
   },
   "file_extension": ".py",
   "mimetype": "text/x-python",
   "name": "python",
   "nbconvert_exporter": "python",
   "pygments_lexer": "ipython3",
   "version": "3.13.0"
  }
 },
 "nbformat": 4,
 "nbformat_minor": 5
}
